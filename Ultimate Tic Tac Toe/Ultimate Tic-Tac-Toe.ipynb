{
 "cells": [
  {
   "cell_type": "code",
   "execution_count": null,
   "id": "18d0b0e3",
   "metadata": {},
   "outputs": [],
   "source": []
  },
  {
   "cell_type": "code",
   "execution_count": null,
   "id": "f8fe0336",
   "metadata": {},
   "outputs": [],
   "source": [
    "gameboard = [\" \",\" \",\" \",\" \",\" \",\" \",\" \",\" \",\" \",\" \"]\n",
    "\n",
    "from IPython.display import clear_output\n",
    "def show_board(gameboard):\n",
    "    print(\"----------\")\n",
    "    \n",
    "    print(\"| \"+gameboard[1]+\"| \"+gameboard[2]+\"| \"+gameboard[3]+\"|\")\n",
    "    print(\"----------\")\n",
    "   \n",
    "    print(\"| \"+gameboard[4]+\"| \"+gameboard[5]+\"| \"+gameboard[6]+\"|\")\n",
    "    print(\"----------\")\n",
    "    print(\"| \"+gameboard[7]+\"| \"+gameboard[8]+\"| \"+gameboard[9]+\"|\")\n",
    "    print(\"----------\")\n",
    "show_board(gameboard)\n"
   ]
  },
  {
   "cell_type": "code",
   "execution_count": null,
   "id": "00816027",
   "metadata": {},
   "outputs": [],
   "source": [
    "def player_value():\n",
    "    value = \"\"\n",
    "   \n",
    "    while not (value == \"X\" or value == \"O\"):\n",
    "        value = input(\"Player one, please choose your value between X or 0: \").upper()\n",
    "    \n",
    "    if value == \"X\":\n",
    "        return (\"Player one uses: X\", \"Player 2 uses: O\")\n",
    "    else:\n",
    "        return (\"Player one uses: O\", \"Player 2 uses: X\")\n",
    "\n",
    "player_value()\n",
    "\n",
    "\n",
    "\n",
    "        "
   ]
  },
  {
   "cell_type": "code",
   "execution_count": null,
   "id": "41037c0e",
   "metadata": {},
   "outputs": [],
   "source": [
    "\n",
    "def player_turn(gameboard, value, position):\n",
    "    gameboard[position]==value\n",
    "   "
   ]
  },
  {
   "cell_type": "code",
   "execution_count": null,
   "id": "cd0bba32",
   "metadata": {},
   "outputs": [],
   "source": [
    "def check_for_winner(gameboard,value):\n",
    "    \n",
    "\n",
    "    return ((gameboard[7] == value and gameboard[8] == value and gameboard[9] == value) or # across the top\n",
    "    (gameboard[8] == value and gameboard[5] == value and gameboard[2] == value) or\n",
    "    (gameboard[1] == value and gameboard[2] == value and gameboard[3] == value) or \n",
    "    (gameboard[9] == value and gameboard[6] == value and gameboard[3] == value) or \n",
    "    (gameboard[7] == value and gameboard[5] == value and gameboard[3] == value) or \n",
    "    (gameboard[7] == value and gameboard[4] == value and gameboard[1] == value) or \n",
    "    (gameboard[9] == value and gameboard[5] == value and gameboard[1] == value) or \n",
    "    (gameboard[4] == value and gameboard[5] == value and gameboard[6] == value)) \n",
    "    "
   ]
  },
  {
   "cell_type": "code",
   "execution_count": null,
   "id": "54a3df6d",
   "metadata": {},
   "outputs": [],
   "source": [
    "import random\n",
    "\n",
    "def first_player():\n",
    "    if random.randint(0, 1) == 0:\n",
    "        return 'Player 1'\n",
    "    else:\n",
    "        return 'Player 2'"
   ]
  },
  {
   "cell_type": "code",
   "execution_count": null,
   "id": "c15d08f3",
   "metadata": {},
   "outputs": [],
   "source": [
    "def space_check_on_board(gameboard, position):\n",
    "    \n",
    "    return gameboard[position] == ' '"
   ]
  },
  {
   "cell_type": "code",
   "execution_count": null,
   "id": "defd45ea",
   "metadata": {},
   "outputs": [],
   "source": [
    "def entire_check(gameboard):\n",
    "    for i in range(1,10):\n",
    "        if space_check_on_board(gameboard, i):\n",
    "            return False\n",
    "    return True"
   ]
  },
  {
   "cell_type": "code",
   "execution_count": null,
   "id": "5175e5ce",
   "metadata": {},
   "outputs": [],
   "source": [
    "def player_position(gameboard):\n",
    "    position = 0\n",
    "\n",
    "    \n",
    "    while position not in [1,2,3,4,5,6,7,8,9] or not space_check_on_board(gameboard, position):\n",
    "        position = int(input('Between 1-9 which is your next position: '))\n",
    "        \n",
    "    return position"
   ]
  },
  {
   "cell_type": "code",
   "execution_count": null,
   "id": "c28c6e2b",
   "metadata": {},
   "outputs": [],
   "source": [
    "def play_again():\n",
    "    \n",
    "    response = ''\n",
    "    while not (response == \"Y\" or response == \"N\"):\n",
    "        response = input('Do you still want to play? Enter Y or N: ').upper()\n",
    "    if response == \"Y\":\n",
    "        return True\n",
    "    else:\n",
    "        return False\n",
    "    "
   ]
  },
  {
   "cell_type": "code",
   "execution_count": null,
   "id": "785a8396",
   "metadata": {},
   "outputs": [],
   "source": [
    "print(\"Ultimate TicTak Toe\")\n",
    "\n",
    "while True:\n",
    "    board = [' ']*10\n",
    "    player1_value, player2_value = player_value()\n",
    "    current_player = first_player()\n",
    "    print(\"The first player is {}\".format(current_player))\n",
    "    \n",
    "    start_game = input(\"Proceed? Enter Yes or No\")\n",
    "    \n",
    "    if start_game.upper()[0] == \"Y\":\n",
    "        begin_game = True\n",
    "    else:\n",
    "        begin_game = False\n",
    "    \n",
    "    while begin_game:\n",
    "        if current_player == 'Player 1':\n",
    "            \n",
    "            show_board(board)\n",
    "            position = player_position(board)\n",
    "            player_turn(board, player1_value, position)\n",
    "            \n",
    "            if check_for_winner(board, player1_value):\n",
    "                show_board(board)\n",
    "                print(\"Bravo, Player 1 has won the game\")\n",
    "                begin_game = False\n",
    "            else:\n",
    "                if entire_check(board):\n",
    "                    show_board(board)\n",
    "                    print('Good game. Its a draw!!')\n",
    "                    break\n",
    "                else:\n",
    "                    current_player = \"Player 2\"\n",
    "                \n",
    "        else:\n",
    "            \n",
    "            show_board(board)\n",
    "            position = player_position(board)\n",
    "            player_turn(board, player2_value, position)\n",
    "            \n",
    "            if check_for_winner(board, player2_value):\n",
    "                show_board(board)\n",
    "                print(\"Bravo, Player 2 has won the game\")\n",
    "                begin_game = False\n",
    "            else:\n",
    "                if entire_check(board):\n",
    "                    show_board(board)\n",
    "                    print('Good game. Its a draw!!')\n",
    "                    break\n",
    "                else:\n",
    "                    current_player = \"Player 1\"\n",
    "                \n",
    "    if not play_again():\n",
    "            break \n",
    "        \n",
    "                \n",
    "                \n",
    "            \n",
    "        "
   ]
  },
  {
   "cell_type": "code",
   "execution_count": null,
   "id": "99892b44",
   "metadata": {},
   "outputs": [],
   "source": []
  },
  {
   "cell_type": "code",
   "execution_count": null,
   "id": "f61e029b",
   "metadata": {},
   "outputs": [],
   "source": []
  },
  {
   "cell_type": "code",
   "execution_count": null,
   "id": "6969aa26",
   "metadata": {},
   "outputs": [],
   "source": []
  },
  {
   "cell_type": "code",
   "execution_count": null,
   "id": "bed8fea6",
   "metadata": {},
   "outputs": [],
   "source": []
  },
  {
   "cell_type": "code",
   "execution_count": null,
   "id": "393d1300",
   "metadata": {},
   "outputs": [],
   "source": []
  },
  {
   "cell_type": "code",
   "execution_count": null,
   "id": "dbaa0bd6",
   "metadata": {},
   "outputs": [],
   "source": []
  },
  {
   "cell_type": "code",
   "execution_count": null,
   "id": "a871d94e",
   "metadata": {},
   "outputs": [],
   "source": []
  },
  {
   "cell_type": "code",
   "execution_count": null,
   "id": "fb900084",
   "metadata": {},
   "outputs": [],
   "source": []
  }
 ],
 "metadata": {
  "kernelspec": {
   "display_name": "Python 3 (ipykernel)",
   "language": "python",
   "name": "python3"
  },
  "language_info": {
   "codemirror_mode": {
    "name": "ipython",
    "version": 3
   },
   "file_extension": ".py",
   "mimetype": "text/x-python",
   "name": "python",
   "nbconvert_exporter": "python",
   "pygments_lexer": "ipython3",
   "version": "3.9.13"
  }
 },
 "nbformat": 4,
 "nbformat_minor": 5
}
